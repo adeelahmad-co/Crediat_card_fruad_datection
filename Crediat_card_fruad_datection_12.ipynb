{
  "nbformat": 4,
  "nbformat_minor": 0,
  "metadata": {
    "colab": {
      "name": "Crediat_card_fruad_datection_12.ipynb",
      "provenance": [],
      "toc_visible": true
    },
    "kernelspec": {
      "display_name": "Python 3",
      "language": "python",
      "name": "python3"
    },
    "language_info": {
      "codemirror_mode": {
        "name": "ipython",
        "version": 3
      },
      "file_extension": ".py",
      "mimetype": "text/x-python",
      "name": "python",
      "nbconvert_exporter": "python",
      "pygments_lexer": "ipython3",
      "version": "3.7.4"
    }
  },
  "cells": [
    {
      "cell_type": "code",
      "metadata": {
        "colab_type": "code",
        "id": "ctRVx6aWEFwt",
        "colab": {}
      },
      "source": [
        "!pip install  -q kaggle\n",
        "!mkdir -p ~/.kaggle\n",
        "!cp kaggle.json ~/.kaggle/\n",
        "!chmod 600 ~/.kaggle/kaggle.json\n",
        "#upload your json api file from kaggle"
      ],
      "execution_count": null,
      "outputs": []
    },
    {
      "cell_type": "code",
      "metadata": {
        "colab_type": "code",
        "id": "h7wayXDGCV5m",
        "colab": {
          "base_uri": "https://localhost:8080/",
          "height": 68
        },
        "outputId": "f2970d97-b509-4233-b22e-af20f803e7ea"
      },
      "source": [
        "\n",
        "!kaggle datasets download -d mlg-ulb/creditcardfraud"
      ],
      "execution_count": null,
      "outputs": [
        {
          "output_type": "stream",
          "text": [
            "Downloading creditcardfraud.zip to /content\n",
            " 86% 57.0M/66.0M [00:01<00:00, 38.9MB/s]\n",
            "100% 66.0M/66.0M [00:01<00:00, 56.8MB/s]\n"
          ],
          "name": "stdout"
        }
      ]
    },
    {
      "cell_type": "code",
      "metadata": {
        "colab_type": "code",
        "id": "DgFSm6zhEdmj",
        "colab": {
          "base_uri": "https://localhost:8080/",
          "height": 51
        },
        "outputId": "2ad1bd52-259c-4fad-d8b2-12cae6085467"
      },
      "source": [
        "!unzip /content/creditcardfraud.zip"
      ],
      "execution_count": null,
      "outputs": [
        {
          "output_type": "stream",
          "text": [
            "Archive:  /content/creditcardfraud.zip\n",
            "  inflating: creditcard.csv          \n"
          ],
          "name": "stdout"
        }
      ]
    },
    {
      "cell_type": "code",
      "metadata": {
        "colab_type": "code",
        "id": "uHxyEo3AE3zx",
        "colab": {
          "base_uri": "https://localhost:8080/",
          "height": 34
        },
        "outputId": "d9b13874-b2e7-404c-db89-622f2dea3a5d"
      },
      "source": [
        "import tensorflow as tf\n",
        "from tensorflow import keras\n",
        "from tensorflow.keras import Sequential\n",
        "from tensorflow.keras.layers import Flatten,Dense,Conv1D,Dropout,BatchNormalization,MaxPool1D\n",
        "\n",
        "from tensorflow.keras.preprocessing.image import ImageDataGenerator \n",
        "from tensorflow.keras import optimizers\n",
        "from tensorflow.keras.optimizers import Adam\n",
        "\n",
        "print(tf.__version__)"
      ],
      "execution_count": 31,
      "outputs": [
        {
          "output_type": "stream",
          "text": [
            "2.2.0\n"
          ],
          "name": "stdout"
        }
      ]
    },
    {
      "cell_type": "code",
      "metadata": {
        "colab_type": "code",
        "id": "ooi06yaqF3Np",
        "colab": {}
      },
      "source": [
        "import pandas as pd\n",
        "import numpy as np\n",
        "import seaborn as sns\n",
        "import matplotlib.pyplot as plt\n",
        "from sklearn.model_selection import train_test_split\n",
        "from sklearn.preprocessing import StandardScaler"
      ],
      "execution_count": 32,
      "outputs": []
    },
    {
      "cell_type": "code",
      "metadata": {
        "colab_type": "code",
        "id": "RYY_NgY8GQcT",
        "colab": {
          "base_uri": "https://localhost:8080/",
          "height": 217
        },
        "outputId": "f872f7eb-e943-45c3-eb14-4c397ed25bef"
      },
      "source": [
        "data = pd.read_csv('/content/creditcard.csv')\n",
        "data.head()"
      ],
      "execution_count": 33,
      "outputs": [
        {
          "output_type": "execute_result",
          "data": {
            "text/html": [
              "<div>\n",
              "<style scoped>\n",
              "    .dataframe tbody tr th:only-of-type {\n",
              "        vertical-align: middle;\n",
              "    }\n",
              "\n",
              "    .dataframe tbody tr th {\n",
              "        vertical-align: top;\n",
              "    }\n",
              "\n",
              "    .dataframe thead th {\n",
              "        text-align: right;\n",
              "    }\n",
              "</style>\n",
              "<table border=\"1\" class=\"dataframe\">\n",
              "  <thead>\n",
              "    <tr style=\"text-align: right;\">\n",
              "      <th></th>\n",
              "      <th>Time</th>\n",
              "      <th>V1</th>\n",
              "      <th>V2</th>\n",
              "      <th>V3</th>\n",
              "      <th>V4</th>\n",
              "      <th>V5</th>\n",
              "      <th>V6</th>\n",
              "      <th>V7</th>\n",
              "      <th>V8</th>\n",
              "      <th>V9</th>\n",
              "      <th>V10</th>\n",
              "      <th>V11</th>\n",
              "      <th>V12</th>\n",
              "      <th>V13</th>\n",
              "      <th>V14</th>\n",
              "      <th>V15</th>\n",
              "      <th>V16</th>\n",
              "      <th>V17</th>\n",
              "      <th>V18</th>\n",
              "      <th>V19</th>\n",
              "      <th>V20</th>\n",
              "      <th>V21</th>\n",
              "      <th>V22</th>\n",
              "      <th>V23</th>\n",
              "      <th>V24</th>\n",
              "      <th>V25</th>\n",
              "      <th>V26</th>\n",
              "      <th>V27</th>\n",
              "      <th>V28</th>\n",
              "      <th>Amount</th>\n",
              "      <th>Class</th>\n",
              "    </tr>\n",
              "  </thead>\n",
              "  <tbody>\n",
              "    <tr>\n",
              "      <th>0</th>\n",
              "      <td>0.0</td>\n",
              "      <td>-1.359807</td>\n",
              "      <td>-0.072781</td>\n",
              "      <td>2.536347</td>\n",
              "      <td>1.378155</td>\n",
              "      <td>-0.338321</td>\n",
              "      <td>0.462388</td>\n",
              "      <td>0.239599</td>\n",
              "      <td>0.098698</td>\n",
              "      <td>0.363787</td>\n",
              "      <td>0.090794</td>\n",
              "      <td>-0.551600</td>\n",
              "      <td>-0.617801</td>\n",
              "      <td>-0.991390</td>\n",
              "      <td>-0.311169</td>\n",
              "      <td>1.468177</td>\n",
              "      <td>-0.470401</td>\n",
              "      <td>0.207971</td>\n",
              "      <td>0.025791</td>\n",
              "      <td>0.403993</td>\n",
              "      <td>0.251412</td>\n",
              "      <td>-0.018307</td>\n",
              "      <td>0.277838</td>\n",
              "      <td>-0.110474</td>\n",
              "      <td>0.066928</td>\n",
              "      <td>0.128539</td>\n",
              "      <td>-0.189115</td>\n",
              "      <td>0.133558</td>\n",
              "      <td>-0.021053</td>\n",
              "      <td>149.62</td>\n",
              "      <td>0</td>\n",
              "    </tr>\n",
              "    <tr>\n",
              "      <th>1</th>\n",
              "      <td>0.0</td>\n",
              "      <td>1.191857</td>\n",
              "      <td>0.266151</td>\n",
              "      <td>0.166480</td>\n",
              "      <td>0.448154</td>\n",
              "      <td>0.060018</td>\n",
              "      <td>-0.082361</td>\n",
              "      <td>-0.078803</td>\n",
              "      <td>0.085102</td>\n",
              "      <td>-0.255425</td>\n",
              "      <td>-0.166974</td>\n",
              "      <td>1.612727</td>\n",
              "      <td>1.065235</td>\n",
              "      <td>0.489095</td>\n",
              "      <td>-0.143772</td>\n",
              "      <td>0.635558</td>\n",
              "      <td>0.463917</td>\n",
              "      <td>-0.114805</td>\n",
              "      <td>-0.183361</td>\n",
              "      <td>-0.145783</td>\n",
              "      <td>-0.069083</td>\n",
              "      <td>-0.225775</td>\n",
              "      <td>-0.638672</td>\n",
              "      <td>0.101288</td>\n",
              "      <td>-0.339846</td>\n",
              "      <td>0.167170</td>\n",
              "      <td>0.125895</td>\n",
              "      <td>-0.008983</td>\n",
              "      <td>0.014724</td>\n",
              "      <td>2.69</td>\n",
              "      <td>0</td>\n",
              "    </tr>\n",
              "    <tr>\n",
              "      <th>2</th>\n",
              "      <td>1.0</td>\n",
              "      <td>-1.358354</td>\n",
              "      <td>-1.340163</td>\n",
              "      <td>1.773209</td>\n",
              "      <td>0.379780</td>\n",
              "      <td>-0.503198</td>\n",
              "      <td>1.800499</td>\n",
              "      <td>0.791461</td>\n",
              "      <td>0.247676</td>\n",
              "      <td>-1.514654</td>\n",
              "      <td>0.207643</td>\n",
              "      <td>0.624501</td>\n",
              "      <td>0.066084</td>\n",
              "      <td>0.717293</td>\n",
              "      <td>-0.165946</td>\n",
              "      <td>2.345865</td>\n",
              "      <td>-2.890083</td>\n",
              "      <td>1.109969</td>\n",
              "      <td>-0.121359</td>\n",
              "      <td>-2.261857</td>\n",
              "      <td>0.524980</td>\n",
              "      <td>0.247998</td>\n",
              "      <td>0.771679</td>\n",
              "      <td>0.909412</td>\n",
              "      <td>-0.689281</td>\n",
              "      <td>-0.327642</td>\n",
              "      <td>-0.139097</td>\n",
              "      <td>-0.055353</td>\n",
              "      <td>-0.059752</td>\n",
              "      <td>378.66</td>\n",
              "      <td>0</td>\n",
              "    </tr>\n",
              "    <tr>\n",
              "      <th>3</th>\n",
              "      <td>1.0</td>\n",
              "      <td>-0.966272</td>\n",
              "      <td>-0.185226</td>\n",
              "      <td>1.792993</td>\n",
              "      <td>-0.863291</td>\n",
              "      <td>-0.010309</td>\n",
              "      <td>1.247203</td>\n",
              "      <td>0.237609</td>\n",
              "      <td>0.377436</td>\n",
              "      <td>-1.387024</td>\n",
              "      <td>-0.054952</td>\n",
              "      <td>-0.226487</td>\n",
              "      <td>0.178228</td>\n",
              "      <td>0.507757</td>\n",
              "      <td>-0.287924</td>\n",
              "      <td>-0.631418</td>\n",
              "      <td>-1.059647</td>\n",
              "      <td>-0.684093</td>\n",
              "      <td>1.965775</td>\n",
              "      <td>-1.232622</td>\n",
              "      <td>-0.208038</td>\n",
              "      <td>-0.108300</td>\n",
              "      <td>0.005274</td>\n",
              "      <td>-0.190321</td>\n",
              "      <td>-1.175575</td>\n",
              "      <td>0.647376</td>\n",
              "      <td>-0.221929</td>\n",
              "      <td>0.062723</td>\n",
              "      <td>0.061458</td>\n",
              "      <td>123.50</td>\n",
              "      <td>0</td>\n",
              "    </tr>\n",
              "    <tr>\n",
              "      <th>4</th>\n",
              "      <td>2.0</td>\n",
              "      <td>-1.158233</td>\n",
              "      <td>0.877737</td>\n",
              "      <td>1.548718</td>\n",
              "      <td>0.403034</td>\n",
              "      <td>-0.407193</td>\n",
              "      <td>0.095921</td>\n",
              "      <td>0.592941</td>\n",
              "      <td>-0.270533</td>\n",
              "      <td>0.817739</td>\n",
              "      <td>0.753074</td>\n",
              "      <td>-0.822843</td>\n",
              "      <td>0.538196</td>\n",
              "      <td>1.345852</td>\n",
              "      <td>-1.119670</td>\n",
              "      <td>0.175121</td>\n",
              "      <td>-0.451449</td>\n",
              "      <td>-0.237033</td>\n",
              "      <td>-0.038195</td>\n",
              "      <td>0.803487</td>\n",
              "      <td>0.408542</td>\n",
              "      <td>-0.009431</td>\n",
              "      <td>0.798278</td>\n",
              "      <td>-0.137458</td>\n",
              "      <td>0.141267</td>\n",
              "      <td>-0.206010</td>\n",
              "      <td>0.502292</td>\n",
              "      <td>0.219422</td>\n",
              "      <td>0.215153</td>\n",
              "      <td>69.99</td>\n",
              "      <td>0</td>\n",
              "    </tr>\n",
              "  </tbody>\n",
              "</table>\n",
              "</div>"
            ],
            "text/plain": [
              "   Time        V1        V2        V3  ...       V27       V28  Amount  Class\n",
              "0   0.0 -1.359807 -0.072781  2.536347  ...  0.133558 -0.021053  149.62      0\n",
              "1   0.0  1.191857  0.266151  0.166480  ... -0.008983  0.014724    2.69      0\n",
              "2   1.0 -1.358354 -1.340163  1.773209  ... -0.055353 -0.059752  378.66      0\n",
              "3   1.0 -0.966272 -0.185226  1.792993  ...  0.062723  0.061458  123.50      0\n",
              "4   2.0 -1.158233  0.877737  1.548718  ...  0.219422  0.215153   69.99      0\n",
              "\n",
              "[5 rows x 31 columns]"
            ]
          },
          "metadata": {
            "tags": []
          },
          "execution_count": 33
        }
      ]
    },
    {
      "cell_type": "code",
      "metadata": {
        "colab_type": "code",
        "id": "hJttlASLGgWk",
        "colab": {
          "base_uri": "https://localhost:8080/",
          "height": 34
        },
        "outputId": "71c517d7-2416-447e-80ed-41f932b81f62"
      },
      "source": [
        "data.shape"
      ],
      "execution_count": 34,
      "outputs": [
        {
          "output_type": "execute_result",
          "data": {
            "text/plain": [
              "(284807, 31)"
            ]
          },
          "metadata": {
            "tags": []
          },
          "execution_count": 34
        }
      ]
    },
    {
      "cell_type": "code",
      "metadata": {
        "colab_type": "code",
        "id": "AVvvlaNDGtoC",
        "colab": {
          "base_uri": "https://localhost:8080/",
          "height": 585
        },
        "outputId": "148d95a6-80e0-4dfb-cf44-dd2788bb2679"
      },
      "source": [
        "data.isnull().sum()"
      ],
      "execution_count": 35,
      "outputs": [
        {
          "output_type": "execute_result",
          "data": {
            "text/plain": [
              "Time      0\n",
              "V1        0\n",
              "V2        0\n",
              "V3        0\n",
              "V4        0\n",
              "V5        0\n",
              "V6        0\n",
              "V7        0\n",
              "V8        0\n",
              "V9        0\n",
              "V10       0\n",
              "V11       0\n",
              "V12       0\n",
              "V13       0\n",
              "V14       0\n",
              "V15       0\n",
              "V16       0\n",
              "V17       0\n",
              "V18       0\n",
              "V19       0\n",
              "V20       0\n",
              "V21       0\n",
              "V22       0\n",
              "V23       0\n",
              "V24       0\n",
              "V25       0\n",
              "V26       0\n",
              "V27       0\n",
              "V28       0\n",
              "Amount    0\n",
              "Class     0\n",
              "dtype: int64"
            ]
          },
          "metadata": {
            "tags": []
          },
          "execution_count": 35
        }
      ]
    },
    {
      "cell_type": "code",
      "metadata": {
        "colab_type": "code",
        "id": "0QkKu4BWHxJy",
        "colab": {}
      },
      "source": [
        ""
      ],
      "execution_count": 35,
      "outputs": []
    },
    {
      "cell_type": "markdown",
      "metadata": {
        "colab_type": "text",
        "id": "LsqALiQTHyPo"
      },
      "source": [
        "Balanced **Data**"
      ]
    },
    {
      "cell_type": "code",
      "metadata": {
        "colab_type": "code",
        "id": "mJjsLRudG43C",
        "colab": {
          "base_uri": "https://localhost:8080/",
          "height": 70
        },
        "outputId": "82a413bf-493f-4480-c72e-4a7a616f0c9e"
      },
      "source": [
        "data['Class'].value_counts()"
      ],
      "execution_count": 36,
      "outputs": [
        {
          "output_type": "execute_result",
          "data": {
            "text/plain": [
              "0    284315\n",
              "1       492\n",
              "Name: Class, dtype: int64"
            ]
          },
          "metadata": {
            "tags": []
          },
          "execution_count": 36
        }
      ]
    },
    {
      "cell_type": "code",
      "metadata": {
        "colab_type": "code",
        "id": "vAqBVQZqHK8X",
        "colab": {
          "base_uri": "https://localhost:8080/",
          "height": 34
        },
        "outputId": "9963a9d7-e143-4302-8852-3050ac0878cf"
      },
      "source": [
        "non_fraud = data[data['Class']==0]\n",
        "fraud = data[data['Class']==1]\n",
        "non_fraud.shape,fraud.shape"
      ],
      "execution_count": 37,
      "outputs": [
        {
          "output_type": "execute_result",
          "data": {
            "text/plain": [
              "((284315, 31), (492, 31))"
            ]
          },
          "metadata": {
            "tags": []
          },
          "execution_count": 37
        }
      ]
    },
    {
      "cell_type": "code",
      "metadata": {
        "colab_type": "code",
        "id": "sCk9thkFHsKl",
        "colab": {
          "base_uri": "https://localhost:8080/",
          "height": 34
        },
        "outputId": "defff22a-aefe-44f1-dc25-34e149f0ecf7"
      },
      "source": [
        "non_fraud = non_fraud.sample(fraud.shape[0])\n",
        "non_fraud.shape"
      ],
      "execution_count": 38,
      "outputs": [
        {
          "output_type": "execute_result",
          "data": {
            "text/plain": [
              "(492, 31)"
            ]
          },
          "metadata": {
            "tags": []
          },
          "execution_count": 38
        }
      ]
    },
    {
      "cell_type": "code",
      "metadata": {
        "colab_type": "code",
        "id": "ccadhW_QISsZ",
        "colab": {}
      },
      "source": [
        "data = fraud.append(non_fraud,ignore_index=True)"
      ],
      "execution_count": 39,
      "outputs": []
    },
    {
      "cell_type": "code",
      "metadata": {
        "colab_type": "code",
        "id": "IHTNjaWuIndl",
        "colab": {
          "base_uri": "https://localhost:8080/",
          "height": 426
        },
        "outputId": "dab18c5a-35e1-415d-fb75-832d60c562c4"
      },
      "source": [
        "data"
      ],
      "execution_count": 40,
      "outputs": [
        {
          "output_type": "execute_result",
          "data": {
            "text/html": [
              "<div>\n",
              "<style scoped>\n",
              "    .dataframe tbody tr th:only-of-type {\n",
              "        vertical-align: middle;\n",
              "    }\n",
              "\n",
              "    .dataframe tbody tr th {\n",
              "        vertical-align: top;\n",
              "    }\n",
              "\n",
              "    .dataframe thead th {\n",
              "        text-align: right;\n",
              "    }\n",
              "</style>\n",
              "<table border=\"1\" class=\"dataframe\">\n",
              "  <thead>\n",
              "    <tr style=\"text-align: right;\">\n",
              "      <th></th>\n",
              "      <th>Time</th>\n",
              "      <th>V1</th>\n",
              "      <th>V2</th>\n",
              "      <th>V3</th>\n",
              "      <th>V4</th>\n",
              "      <th>V5</th>\n",
              "      <th>V6</th>\n",
              "      <th>V7</th>\n",
              "      <th>V8</th>\n",
              "      <th>V9</th>\n",
              "      <th>V10</th>\n",
              "      <th>V11</th>\n",
              "      <th>V12</th>\n",
              "      <th>V13</th>\n",
              "      <th>V14</th>\n",
              "      <th>V15</th>\n",
              "      <th>V16</th>\n",
              "      <th>V17</th>\n",
              "      <th>V18</th>\n",
              "      <th>V19</th>\n",
              "      <th>V20</th>\n",
              "      <th>V21</th>\n",
              "      <th>V22</th>\n",
              "      <th>V23</th>\n",
              "      <th>V24</th>\n",
              "      <th>V25</th>\n",
              "      <th>V26</th>\n",
              "      <th>V27</th>\n",
              "      <th>V28</th>\n",
              "      <th>Amount</th>\n",
              "      <th>Class</th>\n",
              "    </tr>\n",
              "  </thead>\n",
              "  <tbody>\n",
              "    <tr>\n",
              "      <th>0</th>\n",
              "      <td>406.0</td>\n",
              "      <td>-2.312227</td>\n",
              "      <td>1.951992</td>\n",
              "      <td>-1.609851</td>\n",
              "      <td>3.997906</td>\n",
              "      <td>-0.522188</td>\n",
              "      <td>-1.426545</td>\n",
              "      <td>-2.537387</td>\n",
              "      <td>1.391657</td>\n",
              "      <td>-2.770089</td>\n",
              "      <td>-2.772272</td>\n",
              "      <td>3.202033</td>\n",
              "      <td>-2.899907</td>\n",
              "      <td>-0.595222</td>\n",
              "      <td>-4.289254</td>\n",
              "      <td>0.389724</td>\n",
              "      <td>-1.140747</td>\n",
              "      <td>-2.830056</td>\n",
              "      <td>-0.016822</td>\n",
              "      <td>0.416956</td>\n",
              "      <td>0.126911</td>\n",
              "      <td>0.517232</td>\n",
              "      <td>-0.035049</td>\n",
              "      <td>-0.465211</td>\n",
              "      <td>0.320198</td>\n",
              "      <td>0.044519</td>\n",
              "      <td>0.177840</td>\n",
              "      <td>0.261145</td>\n",
              "      <td>-0.143276</td>\n",
              "      <td>0.00</td>\n",
              "      <td>1</td>\n",
              "    </tr>\n",
              "    <tr>\n",
              "      <th>1</th>\n",
              "      <td>472.0</td>\n",
              "      <td>-3.043541</td>\n",
              "      <td>-3.157307</td>\n",
              "      <td>1.088463</td>\n",
              "      <td>2.288644</td>\n",
              "      <td>1.359805</td>\n",
              "      <td>-1.064823</td>\n",
              "      <td>0.325574</td>\n",
              "      <td>-0.067794</td>\n",
              "      <td>-0.270953</td>\n",
              "      <td>-0.838587</td>\n",
              "      <td>-0.414575</td>\n",
              "      <td>-0.503141</td>\n",
              "      <td>0.676502</td>\n",
              "      <td>-1.692029</td>\n",
              "      <td>2.000635</td>\n",
              "      <td>0.666780</td>\n",
              "      <td>0.599717</td>\n",
              "      <td>1.725321</td>\n",
              "      <td>0.283345</td>\n",
              "      <td>2.102339</td>\n",
              "      <td>0.661696</td>\n",
              "      <td>0.435477</td>\n",
              "      <td>1.375966</td>\n",
              "      <td>-0.293803</td>\n",
              "      <td>0.279798</td>\n",
              "      <td>-0.145362</td>\n",
              "      <td>-0.252773</td>\n",
              "      <td>0.035764</td>\n",
              "      <td>529.00</td>\n",
              "      <td>1</td>\n",
              "    </tr>\n",
              "    <tr>\n",
              "      <th>2</th>\n",
              "      <td>4462.0</td>\n",
              "      <td>-2.303350</td>\n",
              "      <td>1.759247</td>\n",
              "      <td>-0.359745</td>\n",
              "      <td>2.330243</td>\n",
              "      <td>-0.821628</td>\n",
              "      <td>-0.075788</td>\n",
              "      <td>0.562320</td>\n",
              "      <td>-0.399147</td>\n",
              "      <td>-0.238253</td>\n",
              "      <td>-1.525412</td>\n",
              "      <td>2.032912</td>\n",
              "      <td>-6.560124</td>\n",
              "      <td>0.022937</td>\n",
              "      <td>-1.470102</td>\n",
              "      <td>-0.698826</td>\n",
              "      <td>-2.282194</td>\n",
              "      <td>-4.781831</td>\n",
              "      <td>-2.615665</td>\n",
              "      <td>-1.334441</td>\n",
              "      <td>-0.430022</td>\n",
              "      <td>-0.294166</td>\n",
              "      <td>-0.932391</td>\n",
              "      <td>0.172726</td>\n",
              "      <td>-0.087330</td>\n",
              "      <td>-0.156114</td>\n",
              "      <td>-0.542628</td>\n",
              "      <td>0.039566</td>\n",
              "      <td>-0.153029</td>\n",
              "      <td>239.93</td>\n",
              "      <td>1</td>\n",
              "    </tr>\n",
              "    <tr>\n",
              "      <th>3</th>\n",
              "      <td>6986.0</td>\n",
              "      <td>-4.397974</td>\n",
              "      <td>1.358367</td>\n",
              "      <td>-2.592844</td>\n",
              "      <td>2.679787</td>\n",
              "      <td>-1.128131</td>\n",
              "      <td>-1.706536</td>\n",
              "      <td>-3.496197</td>\n",
              "      <td>-0.248778</td>\n",
              "      <td>-0.247768</td>\n",
              "      <td>-4.801637</td>\n",
              "      <td>4.895844</td>\n",
              "      <td>-10.912819</td>\n",
              "      <td>0.184372</td>\n",
              "      <td>-6.771097</td>\n",
              "      <td>-0.007326</td>\n",
              "      <td>-7.358083</td>\n",
              "      <td>-12.598419</td>\n",
              "      <td>-5.131549</td>\n",
              "      <td>0.308334</td>\n",
              "      <td>-0.171608</td>\n",
              "      <td>0.573574</td>\n",
              "      <td>0.176968</td>\n",
              "      <td>-0.436207</td>\n",
              "      <td>-0.053502</td>\n",
              "      <td>0.252405</td>\n",
              "      <td>-0.657488</td>\n",
              "      <td>-0.827136</td>\n",
              "      <td>0.849573</td>\n",
              "      <td>59.00</td>\n",
              "      <td>1</td>\n",
              "    </tr>\n",
              "    <tr>\n",
              "      <th>4</th>\n",
              "      <td>7519.0</td>\n",
              "      <td>1.234235</td>\n",
              "      <td>3.019740</td>\n",
              "      <td>-4.304597</td>\n",
              "      <td>4.732795</td>\n",
              "      <td>3.624201</td>\n",
              "      <td>-1.357746</td>\n",
              "      <td>1.713445</td>\n",
              "      <td>-0.496358</td>\n",
              "      <td>-1.282858</td>\n",
              "      <td>-2.447469</td>\n",
              "      <td>2.101344</td>\n",
              "      <td>-4.609628</td>\n",
              "      <td>1.464378</td>\n",
              "      <td>-6.079337</td>\n",
              "      <td>-0.339237</td>\n",
              "      <td>2.581851</td>\n",
              "      <td>6.739384</td>\n",
              "      <td>3.042493</td>\n",
              "      <td>-2.721853</td>\n",
              "      <td>0.009061</td>\n",
              "      <td>-0.379068</td>\n",
              "      <td>-0.704181</td>\n",
              "      <td>-0.656805</td>\n",
              "      <td>-1.632653</td>\n",
              "      <td>1.488901</td>\n",
              "      <td>0.566797</td>\n",
              "      <td>-0.010016</td>\n",
              "      <td>0.146793</td>\n",
              "      <td>1.00</td>\n",
              "      <td>1</td>\n",
              "    </tr>\n",
              "    <tr>\n",
              "      <th>...</th>\n",
              "      <td>...</td>\n",
              "      <td>...</td>\n",
              "      <td>...</td>\n",
              "      <td>...</td>\n",
              "      <td>...</td>\n",
              "      <td>...</td>\n",
              "      <td>...</td>\n",
              "      <td>...</td>\n",
              "      <td>...</td>\n",
              "      <td>...</td>\n",
              "      <td>...</td>\n",
              "      <td>...</td>\n",
              "      <td>...</td>\n",
              "      <td>...</td>\n",
              "      <td>...</td>\n",
              "      <td>...</td>\n",
              "      <td>...</td>\n",
              "      <td>...</td>\n",
              "      <td>...</td>\n",
              "      <td>...</td>\n",
              "      <td>...</td>\n",
              "      <td>...</td>\n",
              "      <td>...</td>\n",
              "      <td>...</td>\n",
              "      <td>...</td>\n",
              "      <td>...</td>\n",
              "      <td>...</td>\n",
              "      <td>...</td>\n",
              "      <td>...</td>\n",
              "      <td>...</td>\n",
              "      <td>...</td>\n",
              "    </tr>\n",
              "    <tr>\n",
              "      <th>979</th>\n",
              "      <td>116992.0</td>\n",
              "      <td>2.041598</td>\n",
              "      <td>-0.557962</td>\n",
              "      <td>-2.544583</td>\n",
              "      <td>-0.844652</td>\n",
              "      <td>2.248502</td>\n",
              "      <td>3.480867</td>\n",
              "      <td>-0.639779</td>\n",
              "      <td>0.829574</td>\n",
              "      <td>0.997348</td>\n",
              "      <td>-0.178881</td>\n",
              "      <td>-0.298174</td>\n",
              "      <td>0.532229</td>\n",
              "      <td>-0.312202</td>\n",
              "      <td>0.252401</td>\n",
              "      <td>-0.017584</td>\n",
              "      <td>-0.725456</td>\n",
              "      <td>-0.129705</td>\n",
              "      <td>-0.561499</td>\n",
              "      <td>0.149737</td>\n",
              "      <td>-0.178507</td>\n",
              "      <td>0.074687</td>\n",
              "      <td>0.436614</td>\n",
              "      <td>0.077841</td>\n",
              "      <td>0.762911</td>\n",
              "      <td>0.237732</td>\n",
              "      <td>0.215783</td>\n",
              "      <td>-0.006447</td>\n",
              "      <td>-0.069697</td>\n",
              "      <td>1.00</td>\n",
              "      <td>0</td>\n",
              "    </tr>\n",
              "    <tr>\n",
              "      <th>980</th>\n",
              "      <td>56747.0</td>\n",
              "      <td>1.240809</td>\n",
              "      <td>-0.352289</td>\n",
              "      <td>0.477039</td>\n",
              "      <td>0.479757</td>\n",
              "      <td>-0.972267</td>\n",
              "      <td>-0.813743</td>\n",
              "      <td>-0.283394</td>\n",
              "      <td>-0.187102</td>\n",
              "      <td>-0.938459</td>\n",
              "      <td>0.785936</td>\n",
              "      <td>-0.642892</td>\n",
              "      <td>-0.228090</td>\n",
              "      <td>0.042440</td>\n",
              "      <td>0.236120</td>\n",
              "      <td>0.929865</td>\n",
              "      <td>-1.282175</td>\n",
              "      <td>-0.210555</td>\n",
              "      <td>1.221524</td>\n",
              "      <td>-1.147617</td>\n",
              "      <td>-0.458352</td>\n",
              "      <td>-0.407351</td>\n",
              "      <td>-0.814102</td>\n",
              "      <td>0.039274</td>\n",
              "      <td>0.325984</td>\n",
              "      <td>0.368636</td>\n",
              "      <td>-0.467442</td>\n",
              "      <td>0.038644</td>\n",
              "      <td>0.040070</td>\n",
              "      <td>56.38</td>\n",
              "      <td>0</td>\n",
              "    </tr>\n",
              "    <tr>\n",
              "      <th>981</th>\n",
              "      <td>29176.0</td>\n",
              "      <td>1.084949</td>\n",
              "      <td>0.060946</td>\n",
              "      <td>0.581239</td>\n",
              "      <td>1.549890</td>\n",
              "      <td>-0.547460</td>\n",
              "      <td>-0.515701</td>\n",
              "      <td>0.021530</td>\n",
              "      <td>0.016596</td>\n",
              "      <td>0.447069</td>\n",
              "      <td>-0.097449</td>\n",
              "      <td>-0.279021</td>\n",
              "      <td>0.022261</td>\n",
              "      <td>-1.508595</td>\n",
              "      <td>0.359067</td>\n",
              "      <td>0.010226</td>\n",
              "      <td>-0.815777</td>\n",
              "      <td>0.531891</td>\n",
              "      <td>-0.990311</td>\n",
              "      <td>-0.566793</td>\n",
              "      <td>-0.247158</td>\n",
              "      <td>-0.068575</td>\n",
              "      <td>-0.073948</td>\n",
              "      <td>-0.000113</td>\n",
              "      <td>0.580350</td>\n",
              "      <td>0.540395</td>\n",
              "      <td>-0.343163</td>\n",
              "      <td>0.028223</td>\n",
              "      <td>0.022258</td>\n",
              "      <td>29.71</td>\n",
              "      <td>0</td>\n",
              "    </tr>\n",
              "    <tr>\n",
              "      <th>982</th>\n",
              "      <td>41109.0</td>\n",
              "      <td>-0.432001</td>\n",
              "      <td>1.101130</td>\n",
              "      <td>1.713033</td>\n",
              "      <td>0.038420</td>\n",
              "      <td>-0.188794</td>\n",
              "      <td>-1.067472</td>\n",
              "      <td>0.755606</td>\n",
              "      <td>-0.119543</td>\n",
              "      <td>-0.502165</td>\n",
              "      <td>-0.329653</td>\n",
              "      <td>-0.012675</td>\n",
              "      <td>0.351516</td>\n",
              "      <td>0.526451</td>\n",
              "      <td>0.051543</td>\n",
              "      <td>0.763278</td>\n",
              "      <td>0.077420</td>\n",
              "      <td>-0.306089</td>\n",
              "      <td>-0.526851</td>\n",
              "      <td>-0.113228</td>\n",
              "      <td>0.121109</td>\n",
              "      <td>-0.200381</td>\n",
              "      <td>-0.488883</td>\n",
              "      <td>0.011656</td>\n",
              "      <td>0.707523</td>\n",
              "      <td>-0.219065</td>\n",
              "      <td>0.049100</td>\n",
              "      <td>0.269410</td>\n",
              "      <td>0.125405</td>\n",
              "      <td>3.27</td>\n",
              "      <td>0</td>\n",
              "    </tr>\n",
              "    <tr>\n",
              "      <th>983</th>\n",
              "      <td>75098.0</td>\n",
              "      <td>-7.121492</td>\n",
              "      <td>5.638104</td>\n",
              "      <td>-5.215422</td>\n",
              "      <td>-2.748447</td>\n",
              "      <td>-1.707579</td>\n",
              "      <td>2.369545</td>\n",
              "      <td>-4.066081</td>\n",
              "      <td>5.807988</td>\n",
              "      <td>0.476138</td>\n",
              "      <td>0.880346</td>\n",
              "      <td>-1.598528</td>\n",
              "      <td>1.654595</td>\n",
              "      <td>0.593580</td>\n",
              "      <td>2.657834</td>\n",
              "      <td>0.452483</td>\n",
              "      <td>1.984839</td>\n",
              "      <td>0.568647</td>\n",
              "      <td>0.311762</td>\n",
              "      <td>-0.761701</td>\n",
              "      <td>0.641378</td>\n",
              "      <td>-0.049209</td>\n",
              "      <td>-0.898921</td>\n",
              "      <td>0.657069</td>\n",
              "      <td>0.971909</td>\n",
              "      <td>0.750859</td>\n",
              "      <td>0.819759</td>\n",
              "      <td>0.241190</td>\n",
              "      <td>0.265099</td>\n",
              "      <td>1.84</td>\n",
              "      <td>0</td>\n",
              "    </tr>\n",
              "  </tbody>\n",
              "</table>\n",
              "<p>984 rows × 31 columns</p>\n",
              "</div>"
            ],
            "text/plain": [
              "         Time        V1        V2        V3  ...       V27       V28  Amount  Class\n",
              "0       406.0 -2.312227  1.951992 -1.609851  ...  0.261145 -0.143276    0.00      1\n",
              "1       472.0 -3.043541 -3.157307  1.088463  ... -0.252773  0.035764  529.00      1\n",
              "2      4462.0 -2.303350  1.759247 -0.359745  ...  0.039566 -0.153029  239.93      1\n",
              "3      6986.0 -4.397974  1.358367 -2.592844  ... -0.827136  0.849573   59.00      1\n",
              "4      7519.0  1.234235  3.019740 -4.304597  ... -0.010016  0.146793    1.00      1\n",
              "..        ...       ...       ...       ...  ...       ...       ...     ...    ...\n",
              "979  116992.0  2.041598 -0.557962 -2.544583  ... -0.006447 -0.069697    1.00      0\n",
              "980   56747.0  1.240809 -0.352289  0.477039  ...  0.038644  0.040070   56.38      0\n",
              "981   29176.0  1.084949  0.060946  0.581239  ...  0.028223  0.022258   29.71      0\n",
              "982   41109.0 -0.432001  1.101130  1.713033  ...  0.269410  0.125405    3.27      0\n",
              "983   75098.0 -7.121492  5.638104 -5.215422  ...  0.241190  0.265099    1.84      0\n",
              "\n",
              "[984 rows x 31 columns]"
            ]
          },
          "metadata": {
            "tags": []
          },
          "execution_count": 40
        }
      ]
    },
    {
      "cell_type": "code",
      "metadata": {
        "colab_type": "code",
        "id": "_lVIe8GAIo-m",
        "colab": {
          "base_uri": "https://localhost:8080/",
          "height": 70
        },
        "outputId": "d38044c2-d003-4add-8e5b-4a71c5334ae6"
      },
      "source": [
        "data['Class'].value_counts()"
      ],
      "execution_count": 41,
      "outputs": [
        {
          "output_type": "execute_result",
          "data": {
            "text/plain": [
              "1    492\n",
              "0    492\n",
              "Name: Class, dtype: int64"
            ]
          },
          "metadata": {
            "tags": []
          },
          "execution_count": 41
        }
      ]
    },
    {
      "cell_type": "code",
      "metadata": {
        "colab_type": "code",
        "id": "jgQzQWH4IwST",
        "colab": {}
      },
      "source": [
        " X = data.drop('Class',axis=1)\n",
        " y = data['Class']"
      ],
      "execution_count": 42,
      "outputs": []
    },
    {
      "cell_type": "code",
      "metadata": {
        "colab_type": "code",
        "id": "25VDKlKYJGa1",
        "colab": {
          "base_uri": "https://localhost:8080/",
          "height": 34
        },
        "outputId": "ac5a9955-4e3b-4cb5-df26-2fc2c5af15ac"
      },
      "source": [
        "X_train,X_test,y_train,y_test = train_test_split(X,y,test_size=0.2,random_state=0)\n",
        "X_train.shape,X_test.shape"
      ],
      "execution_count": 43,
      "outputs": [
        {
          "output_type": "execute_result",
          "data": {
            "text/plain": [
              "((787, 30), (197, 30))"
            ]
          },
          "metadata": {
            "tags": []
          },
          "execution_count": 43
        }
      ]
    },
    {
      "cell_type": "code",
      "metadata": {
        "colab_type": "code",
        "id": "z3e32KNUKVv1",
        "colab": {}
      },
      "source": [
        "scaler = StandardScaler()\n",
        "X_train = scaler.fit_transform(X_train)\n",
        "X_test = scaler.transform(X_test)"
      ],
      "execution_count": 44,
      "outputs": []
    },
    {
      "cell_type": "code",
      "metadata": {
        "colab_type": "code",
        "id": "m5UvC33DK971",
        "colab": {}
      },
      "source": [
        "y_train = y_train.to_numpy()\n",
        "y_test = y_test.to_numpy()"
      ],
      "execution_count": 45,
      "outputs": []
    },
    {
      "cell_type": "code",
      "metadata": {
        "colab_type": "code",
        "id": "8LnYjxi4LjMI",
        "colab": {
          "base_uri": "https://localhost:8080/",
          "height": 34
        },
        "outputId": "f3abc280-02ad-474b-90a2-407d1cb6f88a"
      },
      "source": [
        "X_train.shape"
      ],
      "execution_count": 46,
      "outputs": [
        {
          "output_type": "execute_result",
          "data": {
            "text/plain": [
              "(787, 30)"
            ]
          },
          "metadata": {
            "tags": []
          },
          "execution_count": 46
        }
      ]
    },
    {
      "cell_type": "markdown",
      "metadata": {
        "colab_type": "text",
        "id": "DrMiv4mzLdvZ"
      },
      "source": [
        "#Convulation take three dimminsional data"
      ]
    },
    {
      "cell_type": "code",
      "metadata": {
        "colab_type": "code",
        "id": "YNgIQ3zFLZlB",
        "colab": {
          "base_uri": "https://localhost:8080/",
          "height": 34
        },
        "outputId": "fdd8ee2a-34a9-457d-b0fc-bb47543a8fc2"
      },
      "source": [
        "X_train = X_train.reshape(X_train.shape[0],X_train.shape[1],1)\n",
        "X_test = X_test.reshape(X_test.shape[0],X_test.shape[1],1)\n",
        "X_train.shape,X_test.shape"
      ],
      "execution_count": 47,
      "outputs": [
        {
          "output_type": "execute_result",
          "data": {
            "text/plain": [
              "((787, 30, 1), (197, 30, 1))"
            ]
          },
          "metadata": {
            "tags": []
          },
          "execution_count": 47
        }
      ]
    },
    {
      "cell_type": "markdown",
      "metadata": {
        "colab_type": "text",
        "id": "XfX4IGFVMQPB"
      },
      "source": [
        "# Build Model"
      ]
    },
    {
      "cell_type": "code",
      "metadata": {
        "colab_type": "code",
        "id": "UUF9GZYMMNAJ",
        "colab": {}
      },
      "source": [
        "epochs = 20\n",
        "model = Sequential()\n",
        "model.add(Conv1D(32,2,activation='relu',input_shape=X_train[0].shape))\n",
        "model.add(BatchNormalization())\n",
        "model.add(Dropout(0.2))\n",
        "\n",
        "model.add(Conv1D(64,2,activation='relu'))\n",
        "model.add(BatchNormalization())\n",
        "model.add(Dropout(0.5))\n",
        "\n",
        "model.add(Flatten())\n",
        "model.add(Dense(64,activation='relu'))\n",
        "model.add(Dropout(0.5))\n",
        "\n",
        "model.add(Dense(1,activation='sigmoid'))\n",
        "\n"
      ],
      "execution_count": 48,
      "outputs": []
    },
    {
      "cell_type": "code",
      "metadata": {
        "colab_type": "code",
        "id": "h51ww9pzN5uo",
        "colab": {
          "base_uri": "https://localhost:8080/",
          "height": 514
        },
        "outputId": "0b732d23-955e-40ba-b8a1-5a506a2c9e33"
      },
      "source": [
        "model.summary()  "
      ],
      "execution_count": 49,
      "outputs": [
        {
          "output_type": "stream",
          "text": [
            "Model: \"sequential_2\"\n",
            "_________________________________________________________________\n",
            "Layer (type)                 Output Shape              Param #   \n",
            "=================================================================\n",
            "conv1d_4 (Conv1D)            (None, 29, 32)            96        \n",
            "_________________________________________________________________\n",
            "batch_normalization_4 (Batch (None, 29, 32)            128       \n",
            "_________________________________________________________________\n",
            "dropout_6 (Dropout)          (None, 29, 32)            0         \n",
            "_________________________________________________________________\n",
            "conv1d_5 (Conv1D)            (None, 28, 64)            4160      \n",
            "_________________________________________________________________\n",
            "batch_normalization_5 (Batch (None, 28, 64)            256       \n",
            "_________________________________________________________________\n",
            "dropout_7 (Dropout)          (None, 28, 64)            0         \n",
            "_________________________________________________________________\n",
            "flatten_2 (Flatten)          (None, 1792)              0         \n",
            "_________________________________________________________________\n",
            "dense_4 (Dense)              (None, 64)                114752    \n",
            "_________________________________________________________________\n",
            "dropout_8 (Dropout)          (None, 64)                0         \n",
            "_________________________________________________________________\n",
            "dense_5 (Dense)              (None, 1)                 65        \n",
            "=================================================================\n",
            "Total params: 119,457\n",
            "Trainable params: 119,265\n",
            "Non-trainable params: 192\n",
            "_________________________________________________________________\n"
          ],
          "name": "stdout"
        }
      ]
    },
    {
      "cell_type": "code",
      "metadata": {
        "colab_type": "code",
        "id": "LJ71jeqwOFkJ",
        "colab": {}
      },
      "source": [
        "model.compile(optimizer=Adam(lr=0.0001),loss='binary_crossentropy',metrics=['accuracy'])"
      ],
      "execution_count": 50,
      "outputs": []
    },
    {
      "cell_type": "code",
      "metadata": {
        "colab_type": "code",
        "id": "lArCqAmtOwEm",
        "colab": {
          "base_uri": "https://localhost:8080/",
          "height": 727
        },
        "outputId": "0d67fddc-b474-4107-9dd9-c4e712315d6d"
      },
      "source": [
        "history = model.fit(X_train,y_train,epochs=epochs,validation_data=(X_test,y_test),verbose=1)"
      ],
      "execution_count": 51,
      "outputs": [
        {
          "output_type": "stream",
          "text": [
            "Epoch 1/20\n",
            "25/25 [==============================] - 0s 14ms/step - loss: 0.9334 - accuracy: 0.5997 - val_loss: 0.6143 - val_accuracy: 0.8325\n",
            "Epoch 2/20\n",
            "25/25 [==============================] - 0s 9ms/step - loss: 0.5731 - accuracy: 0.7675 - val_loss: 0.5657 - val_accuracy: 0.8173\n",
            "Epoch 3/20\n",
            "25/25 [==============================] - 0s 9ms/step - loss: 0.4804 - accuracy: 0.8386 - val_loss: 0.5291 - val_accuracy: 0.8579\n",
            "Epoch 4/20\n",
            "25/25 [==============================] - 0s 9ms/step - loss: 0.4195 - accuracy: 0.8297 - val_loss: 0.4942 - val_accuracy: 0.8934\n",
            "Epoch 5/20\n",
            "25/25 [==============================] - 0s 9ms/step - loss: 0.3303 - accuracy: 0.8640 - val_loss: 0.4588 - val_accuracy: 0.9137\n",
            "Epoch 6/20\n",
            "25/25 [==============================] - 0s 9ms/step - loss: 0.3039 - accuracy: 0.8996 - val_loss: 0.4334 - val_accuracy: 0.9442\n",
            "Epoch 7/20\n",
            "25/25 [==============================] - 0s 9ms/step - loss: 0.3227 - accuracy: 0.8920 - val_loss: 0.4154 - val_accuracy: 0.9645\n",
            "Epoch 8/20\n",
            "25/25 [==============================] - 0s 9ms/step - loss: 0.2847 - accuracy: 0.8945 - val_loss: 0.3834 - val_accuracy: 0.9645\n",
            "Epoch 9/20\n",
            "25/25 [==============================] - 0s 9ms/step - loss: 0.2798 - accuracy: 0.8945 - val_loss: 0.3448 - val_accuracy: 0.9594\n",
            "Epoch 10/20\n",
            "25/25 [==============================] - 0s 9ms/step - loss: 0.2540 - accuracy: 0.9072 - val_loss: 0.3195 - val_accuracy: 0.9594\n",
            "Epoch 11/20\n",
            "25/25 [==============================] - 0s 9ms/step - loss: 0.2767 - accuracy: 0.8933 - val_loss: 0.2908 - val_accuracy: 0.9594\n",
            "Epoch 12/20\n",
            "25/25 [==============================] - 0s 9ms/step - loss: 0.2475 - accuracy: 0.9085 - val_loss: 0.2651 - val_accuracy: 0.9594\n",
            "Epoch 13/20\n",
            "25/25 [==============================] - 0s 9ms/step - loss: 0.2461 - accuracy: 0.9199 - val_loss: 0.2444 - val_accuracy: 0.9594\n",
            "Epoch 14/20\n",
            "25/25 [==============================] - 0s 9ms/step - loss: 0.2199 - accuracy: 0.9212 - val_loss: 0.2308 - val_accuracy: 0.9594\n",
            "Epoch 15/20\n",
            "25/25 [==============================] - 0s 10ms/step - loss: 0.2445 - accuracy: 0.9174 - val_loss: 0.2126 - val_accuracy: 0.9594\n",
            "Epoch 16/20\n",
            "25/25 [==============================] - 0s 9ms/step - loss: 0.2216 - accuracy: 0.9199 - val_loss: 0.1970 - val_accuracy: 0.9594\n",
            "Epoch 17/20\n",
            "25/25 [==============================] - 0s 9ms/step - loss: 0.2347 - accuracy: 0.9174 - val_loss: 0.1934 - val_accuracy: 0.9442\n",
            "Epoch 18/20\n",
            "25/25 [==============================] - 0s 9ms/step - loss: 0.2002 - accuracy: 0.9263 - val_loss: 0.1812 - val_accuracy: 0.9442\n",
            "Epoch 19/20\n",
            "25/25 [==============================] - 0s 9ms/step - loss: 0.1896 - accuracy: 0.9238 - val_loss: 0.1700 - val_accuracy: 0.9442\n",
            "Epoch 20/20\n",
            "25/25 [==============================] - 0s 9ms/step - loss: 0.1871 - accuracy: 0.9365 - val_loss: 0.1636 - val_accuracy: 0.9442\n"
          ],
          "name": "stdout"
        }
      ]
    },
    {
      "cell_type": "code",
      "metadata": {
        "colab_type": "code",
        "id": "fT9JXbjnPapJ",
        "colab": {}
      },
      "source": [
        "def plot_learningcurve(history,epoch):\n",
        "  #plot training and validation accuracy values\n",
        "  epoch_range = range(1,epoch+1)\n",
        "  plt.plot(epoch_range,history.history['accuracy'])\n",
        "  plt.plot(epoch_range,history.history['val_accuracy'])\n",
        "  plt.title('Model Accuracy')\n",
        "  plt.ylabel('Accuracy')\n",
        "  plt.xlabel('Epoch')\n",
        "  plt.legend(['Train','Val'],loc='upper left')\n",
        "  plt.show()\n",
        "  \n",
        "  # plot training and validation Loss\n",
        "  plt.plot(epoch_range,history.history['loss'])\n",
        "  plt.plot(epoch_range,history.history['val_loss'])\n",
        "  plt.title('Model Loss')\n",
        "  plt.ylabel('Loss')\n",
        "  plt.xlabel('Epoch')\n",
        "  plt.legend(['Train','Val'],loc='upper left')\n",
        "  plt.show()"
      ],
      "execution_count": 52,
      "outputs": []
    },
    {
      "cell_type": "code",
      "metadata": {
        "colab_type": "code",
        "id": "0WaMA3mIR3EX",
        "colab": {
          "base_uri": "https://localhost:8080/",
          "height": 573
        },
        "outputId": "e689ad08-518b-472f-f375-dd4a7deb9ea8"
      },
      "source": [
        "plot_learningcurve(history,epochs)"
      ],
      "execution_count": 53,
      "outputs": [
        {
          "output_type": "display_data",
          "data": {
            "image/png": "[encoded data removed]",
            "text/plain": [
              "<Figure size 432x288 with 1 Axes>"
            ]
          },
          "metadata": {
            "tags": [],
            "needs_background": "light"
          }
        },
        {
          "output_type": "display_data",
          "data": {
            "image/png": "[encoded data removed]",
            "text/plain": [
              "<Figure size 432x288 with 1 Axes>"
            ]
          },
          "metadata": {
            "tags": [],
            "needs_background": "light"
          }
        }
      ]
    },
    {
      "cell_type": "code",
      "metadata": {
        "colab_type": "code",
        "id": "oQGC3lWeR9s2",
        "colab": {}
      },
      "source": [
        "# adding Maxpoll"
      ],
      "execution_count": 54,
      "outputs": []
    },
    {
      "cell_type": "code",
      "metadata": {
        "colab_type": "code",
        "id": "h2gmEfLiShWS",
        "colab": {
          "base_uri": "https://localhost:8080/",
          "height": 1000
        },
        "outputId": "c0ddbd66-fd8b-4a3e-8c96-f43ed7783d95"
      },
      "source": [
        "epochs = 50\n",
        "model = Sequential()\n",
        "model.add(Conv1D(32,2,activation='relu',input_shape=X_train[0].shape))\n",
        "model.add(BatchNormalization())\n",
        "model.add(MaxPool1D(2))\n",
        "model.add(Dropout(0.2))\n",
        "\n",
        "model.add(Conv1D(64,2,activation='relu'))\n",
        "model.add(BatchNormalization())\n",
        "model.add(MaxPool1D(2))\n",
        "model.add(Dropout(0.5))\n",
        "\n",
        "model.add(Flatten())\n",
        "model.add(Dense(64,activation='relu'))\n",
        "model.add(Dropout(0.5))\n",
        "\n",
        "model.add(Dense(1,activation='sigmoid'))\n",
        "\n",
        "model.compile(optimizer=Adam(lr=0.0001),loss='binary_crossentropy',metrics=['accuracy'])\n",
        "history = model.fit(X_train,y_train,epochs=epochs,validation_data=(X_test,y_test),verbose=1)\n",
        "plot_learningcurve(history,epochs)\n"
      ],
      "execution_count": 55,
      "outputs": [
        {
          "output_type": "stream",
          "text": [
            "Epoch 1/50\n",
            "25/25 [==============================] - 0s 12ms/step - loss: 1.1275 - accuracy: 0.5044 - val_loss: 0.6730 - val_accuracy: 0.4315\n",
            "Epoch 2/50\n",
            "25/25 [==============================] - 0s 6ms/step - loss: 0.7792 - accuracy: 0.6455 - val_loss: 0.6372 - val_accuracy: 0.7310\n",
            "Epoch 3/50\n",
            "25/25 [==============================] - 0s 6ms/step - loss: 0.6917 - accuracy: 0.6811 - val_loss: 0.6056 - val_accuracy: 0.7665\n",
            "Epoch 4/50\n",
            "25/25 [==============================] - 0s 6ms/step - loss: 0.5899 - accuracy: 0.7535 - val_loss: 0.5784 - val_accuracy: 0.7411\n",
            "Epoch 5/50\n",
            "25/25 [==============================] - 0s 7ms/step - loss: 0.5573 - accuracy: 0.7700 - val_loss: 0.5501 - val_accuracy: 0.7462\n",
            "Epoch 6/50\n",
            "25/25 [==============================] - 0s 6ms/step - loss: 0.4433 - accuracy: 0.8030 - val_loss: 0.5205 - val_accuracy: 0.7614\n",
            "Epoch 7/50\n",
            "25/25 [==============================] - 0s 6ms/step - loss: 0.4400 - accuracy: 0.8170 - val_loss: 0.4901 - val_accuracy: 0.7817\n",
            "Epoch 8/50\n",
            "25/25 [==============================] - 0s 6ms/step - loss: 0.4533 - accuracy: 0.8132 - val_loss: 0.4592 - val_accuracy: 0.8274\n",
            "Epoch 9/50\n",
            "25/25 [==============================] - 0s 6ms/step - loss: 0.4433 - accuracy: 0.8247 - val_loss: 0.4258 - val_accuracy: 0.8528\n",
            "Epoch 10/50\n",
            "25/25 [==============================] - 0s 6ms/step - loss: 0.4532 - accuracy: 0.8183 - val_loss: 0.3921 - val_accuracy: 0.8731\n",
            "Epoch 11/50\n",
            "25/25 [==============================] - 0s 7ms/step - loss: 0.4142 - accuracy: 0.8285 - val_loss: 0.3594 - val_accuracy: 0.8883\n",
            "Epoch 12/50\n",
            "25/25 [==============================] - 0s 6ms/step - loss: 0.4061 - accuracy: 0.8450 - val_loss: 0.3273 - val_accuracy: 0.8985\n",
            "Epoch 13/50\n",
            "25/25 [==============================] - 0s 6ms/step - loss: 0.3627 - accuracy: 0.8640 - val_loss: 0.3000 - val_accuracy: 0.9036\n",
            "Epoch 14/50\n",
            "25/25 [==============================] - 0s 7ms/step - loss: 0.4053 - accuracy: 0.8488 - val_loss: 0.2760 - val_accuracy: 0.9086\n",
            "Epoch 15/50\n",
            "25/25 [==============================] - 0s 6ms/step - loss: 0.3433 - accuracy: 0.8755 - val_loss: 0.2544 - val_accuracy: 0.9086\n",
            "Epoch 16/50\n",
            "25/25 [==============================] - 0s 6ms/step - loss: 0.3615 - accuracy: 0.8793 - val_loss: 0.2358 - val_accuracy: 0.9188\n",
            "Epoch 17/50\n",
            "25/25 [==============================] - 0s 7ms/step - loss: 0.3841 - accuracy: 0.8539 - val_loss: 0.2188 - val_accuracy: 0.9239\n",
            "Epoch 18/50\n",
            "25/25 [==============================] - 0s 6ms/step - loss: 0.3558 - accuracy: 0.8628 - val_loss: 0.2065 - val_accuracy: 0.9239\n",
            "Epoch 19/50\n",
            "25/25 [==============================] - 0s 6ms/step - loss: 0.3181 - accuracy: 0.8907 - val_loss: 0.1972 - val_accuracy: 0.9239\n",
            "Epoch 20/50\n",
            "25/25 [==============================] - 0s 6ms/step - loss: 0.3319 - accuracy: 0.8717 - val_loss: 0.1889 - val_accuracy: 0.9289\n",
            "Epoch 21/50\n",
            "25/25 [==============================] - 0s 6ms/step - loss: 0.3199 - accuracy: 0.8818 - val_loss: 0.1812 - val_accuracy: 0.9289\n",
            "Epoch 22/50\n",
            "25/25 [==============================] - 0s 6ms/step - loss: 0.2746 - accuracy: 0.8958 - val_loss: 0.1768 - val_accuracy: 0.9289\n",
            "Epoch 23/50\n",
            "25/25 [==============================] - 0s 7ms/step - loss: 0.2998 - accuracy: 0.8882 - val_loss: 0.1725 - val_accuracy: 0.9289\n",
            "Epoch 24/50\n",
            "25/25 [==============================] - 0s 6ms/step - loss: 0.2772 - accuracy: 0.8882 - val_loss: 0.1683 - val_accuracy: 0.9289\n",
            "Epoch 25/50\n",
            "25/25 [==============================] - 0s 6ms/step - loss: 0.2772 - accuracy: 0.9034 - val_loss: 0.1651 - val_accuracy: 0.9289\n",
            "Epoch 26/50\n",
            "25/25 [==============================] - 0s 6ms/step - loss: 0.3049 - accuracy: 0.8831 - val_loss: 0.1628 - val_accuracy: 0.9289\n",
            "Epoch 27/50\n",
            "25/25 [==============================] - 0s 6ms/step - loss: 0.2963 - accuracy: 0.8907 - val_loss: 0.1606 - val_accuracy: 0.9340\n",
            "Epoch 28/50\n",
            "25/25 [==============================] - 0s 6ms/step - loss: 0.2603 - accuracy: 0.9034 - val_loss: 0.1583 - val_accuracy: 0.9340\n",
            "Epoch 29/50\n",
            "25/25 [==============================] - 0s 7ms/step - loss: 0.2681 - accuracy: 0.9085 - val_loss: 0.1566 - val_accuracy: 0.9340\n",
            "Epoch 30/50\n",
            "25/25 [==============================] - 0s 6ms/step - loss: 0.3067 - accuracy: 0.8882 - val_loss: 0.1554 - val_accuracy: 0.9340\n",
            "Epoch 31/50\n",
            "25/25 [==============================] - 0s 6ms/step - loss: 0.2637 - accuracy: 0.9022 - val_loss: 0.1536 - val_accuracy: 0.9442\n",
            "Epoch 32/50\n",
            "25/25 [==============================] - 0s 7ms/step - loss: 0.3016 - accuracy: 0.8869 - val_loss: 0.1518 - val_accuracy: 0.9442\n",
            "Epoch 33/50\n",
            "25/25 [==============================] - 0s 6ms/step - loss: 0.2623 - accuracy: 0.9047 - val_loss: 0.1505 - val_accuracy: 0.9442\n",
            "Epoch 34/50\n",
            "25/25 [==============================] - 0s 7ms/step - loss: 0.2858 - accuracy: 0.8945 - val_loss: 0.1492 - val_accuracy: 0.9442\n",
            "Epoch 35/50\n",
            "25/25 [==============================] - 0s 7ms/step - loss: 0.2660 - accuracy: 0.9060 - val_loss: 0.1476 - val_accuracy: 0.9442\n",
            "Epoch 36/50\n",
            "25/25 [==============================] - 0s 6ms/step - loss: 0.2631 - accuracy: 0.9034 - val_loss: 0.1456 - val_accuracy: 0.9492\n",
            "Epoch 37/50\n",
            "25/25 [==============================] - 0s 7ms/step - loss: 0.2560 - accuracy: 0.9072 - val_loss: 0.1442 - val_accuracy: 0.9492\n",
            "Epoch 38/50\n",
            "25/25 [==============================] - 0s 6ms/step - loss: 0.2606 - accuracy: 0.9060 - val_loss: 0.1437 - val_accuracy: 0.9492\n",
            "Epoch 39/50\n",
            "25/25 [==============================] - 0s 6ms/step - loss: 0.2748 - accuracy: 0.8907 - val_loss: 0.1431 - val_accuracy: 0.9492\n",
            "Epoch 40/50\n",
            "25/25 [==============================] - 0s 7ms/step - loss: 0.2692 - accuracy: 0.9060 - val_loss: 0.1429 - val_accuracy: 0.9492\n",
            "Epoch 41/50\n",
            "25/25 [==============================] - 0s 7ms/step - loss: 0.2618 - accuracy: 0.8996 - val_loss: 0.1417 - val_accuracy: 0.9492\n",
            "Epoch 42/50\n",
            "25/25 [==============================] - 0s 8ms/step - loss: 0.2208 - accuracy: 0.9238 - val_loss: 0.1428 - val_accuracy: 0.9492\n",
            "Epoch 43/50\n",
            "25/25 [==============================] - 0s 7ms/step - loss: 0.2319 - accuracy: 0.9136 - val_loss: 0.1429 - val_accuracy: 0.9492\n",
            "Epoch 44/50\n",
            "25/25 [==============================] - 0s 7ms/step - loss: 0.2614 - accuracy: 0.8983 - val_loss: 0.1427 - val_accuracy: 0.9492\n",
            "Epoch 45/50\n",
            "25/25 [==============================] - 0s 7ms/step - loss: 0.2576 - accuracy: 0.9212 - val_loss: 0.1423 - val_accuracy: 0.9492\n",
            "Epoch 46/50\n",
            "25/25 [==============================] - 0s 7ms/step - loss: 0.2452 - accuracy: 0.9072 - val_loss: 0.1418 - val_accuracy: 0.9492\n",
            "Epoch 47/50\n",
            "25/25 [==============================] - 0s 6ms/step - loss: 0.2555 - accuracy: 0.9149 - val_loss: 0.1412 - val_accuracy: 0.9492\n",
            "Epoch 48/50\n",
            "25/25 [==============================] - 0s 7ms/step - loss: 0.2366 - accuracy: 0.9161 - val_loss: 0.1412 - val_accuracy: 0.9492\n",
            "Epoch 49/50\n",
            "25/25 [==============================] - 0s 7ms/step - loss: 0.2206 - accuracy: 0.9212 - val_loss: 0.1413 - val_accuracy: 0.9492\n",
            "Epoch 50/50\n",
            "25/25 [==============================] - 0s 7ms/step - loss: 0.2271 - accuracy: 0.9225 - val_loss: 0.1412 - val_accuracy: 0.9492\n"
          ],
          "name": "stdout"
        },
        {
          "output_type": "display_data",
          "data": {
            "image/png": "[encoded data removed]",
            "text/plain": [
              "<Figure size 432x288 with 1 Axes>"
            ]
          },
          "metadata": {
            "tags": [],
            "needs_background": "light"
          }
        },
        {
          "output_type": "display_data",
          "data": {
            "image/png": "[encoded data removed]",
            "text/plain": [
              "<Figure size 432x288 with 1 Axes>"
            ]
          },
          "metadata": {
            "tags": [],
            "needs_background": "light"
          }
        }
      ]
    },
    {
      "cell_type": "code",
      "metadata": {
        "id": "ACuzJzgeuMLX",
        "colab_type": "code",
        "colab": {}
      },
      "source": [
        "y_pred = model.predict(X_test)"
      ],
      "execution_count": 59,
      "outputs": []
    },
    {
      "cell_type": "code",
      "metadata": {
        "id": "ICyj-1WfvTIM",
        "colab_type": "code",
        "colab": {
          "base_uri": "https://localhost:8080/",
          "height": 1000
        },
        "outputId": "fe4e60a1-f54a-4ec0-cb1f-cea1947b9995"
      },
      "source": [
        "pred"
      ],
      "execution_count": 60,
      "outputs": [
        {
          "output_type": "execute_result",
          "data": {
            "text/plain": [
              "array([[0.08505666],\n",
              "       [0.05639836],\n",
              "       [0.9999958 ],\n",
              "       [0.02553371],\n",
              "       [0.10356072],\n",
              "       [0.9999999 ],\n",
              "       [0.987666  ],\n",
              "       [0.02116433],\n",
              "       [0.04372793],\n",
              "       [0.03170019],\n",
              "       [0.08003619],\n",
              "       [0.06523779],\n",
              "       [0.9999988 ],\n",
              "       [0.9998864 ],\n",
              "       [0.08654046],\n",
              "       [0.96581066],\n",
              "       [0.01926288],\n",
              "       [0.03900385],\n",
              "       [1.        ],\n",
              "       [0.9999999 ],\n",
              "       [0.15489373],\n",
              "       [0.03154638],\n",
              "       [0.9999883 ],\n",
              "       [0.12918055],\n",
              "       [0.9944353 ],\n",
              "       [0.05943468],\n",
              "       [0.99861026],\n",
              "       [0.9853235 ],\n",
              "       [0.05444148],\n",
              "       [0.02707559],\n",
              "       [0.3533905 ],\n",
              "       [0.03068706],\n",
              "       [0.07835153],\n",
              "       [0.0620099 ],\n",
              "       [1.        ],\n",
              "       [0.9998003 ],\n",
              "       [0.99966097],\n",
              "       [0.15987626],\n",
              "       [0.9894713 ],\n",
              "       [1.        ],\n",
              "       [0.99998975],\n",
              "       [0.03605032],\n",
              "       [0.05275324],\n",
              "       [1.        ],\n",
              "       [0.0613074 ],\n",
              "       [0.0579842 ],\n",
              "       [0.99639606],\n",
              "       [0.8889456 ],\n",
              "       [0.99867654],\n",
              "       [0.01460728],\n",
              "       [0.03597727],\n",
              "       [0.81669164],\n",
              "       [0.0448772 ],\n",
              "       [0.09698567],\n",
              "       [1.        ],\n",
              "       [0.9994353 ],\n",
              "       [0.02138537],\n",
              "       [0.01292002],\n",
              "       [0.66215247],\n",
              "       [0.99884874],\n",
              "       [0.9885416 ],\n",
              "       [0.10234722],\n",
              "       [0.9973867 ],\n",
              "       [0.02982295],\n",
              "       [0.1540938 ],\n",
              "       [0.0348396 ],\n",
              "       [0.9969461 ],\n",
              "       [0.05980963],\n",
              "       [0.02844545],\n",
              "       [0.01888609],\n",
              "       [0.02601561],\n",
              "       [0.08327132],\n",
              "       [0.04453105],\n",
              "       [0.05253574],\n",
              "       [0.04563707],\n",
              "       [0.9980887 ],\n",
              "       [0.03628138],\n",
              "       [1.        ],\n",
              "       [0.99901867],\n",
              "       [0.04291028],\n",
              "       [0.999014  ],\n",
              "       [0.07824945],\n",
              "       [0.97960865],\n",
              "       [0.99921894],\n",
              "       [0.04503134],\n",
              "       [0.05136746],\n",
              "       [0.9995997 ],\n",
              "       [0.04075241],\n",
              "       [0.9988731 ],\n",
              "       [0.01411611],\n",
              "       [0.02938706],\n",
              "       [0.25594717],\n",
              "       [0.06420523],\n",
              "       [0.0519765 ],\n",
              "       [0.9949638 ],\n",
              "       [0.12925488],\n",
              "       [0.9930698 ],\n",
              "       [0.15341395],\n",
              "       [0.92038924],\n",
              "       [0.02407873],\n",
              "       [0.9916187 ],\n",
              "       [0.5479773 ],\n",
              "       [0.01241177],\n",
              "       [0.02901188],\n",
              "       [0.9988551 ],\n",
              "       [0.01858392],\n",
              "       [0.05604446],\n",
              "       [0.9999784 ],\n",
              "       [0.0169895 ],\n",
              "       [0.99742675],\n",
              "       [0.03911549],\n",
              "       [1.        ],\n",
              "       [0.9829701 ],\n",
              "       [0.9997568 ],\n",
              "       [0.03325239],\n",
              "       [0.05343485],\n",
              "       [0.9990699 ],\n",
              "       [0.04079649],\n",
              "       [0.01075923],\n",
              "       [0.9988254 ],\n",
              "       [0.9937146 ],\n",
              "       [0.02700639],\n",
              "       [0.08505413],\n",
              "       [0.9976524 ],\n",
              "       [0.99875736],\n",
              "       [0.0176512 ],\n",
              "       [0.0649254 ],\n",
              "       [0.15441388],\n",
              "       [0.04074734],\n",
              "       [0.2271496 ],\n",
              "       [0.6426827 ],\n",
              "       [0.06278664],\n",
              "       [0.9791958 ],\n",
              "       [0.99968976],\n",
              "       [0.9999905 ],\n",
              "       [0.9959829 ],\n",
              "       [0.9962329 ],\n",
              "       [0.03489497],\n",
              "       [0.10802734],\n",
              "       [0.9887739 ],\n",
              "       [0.09320304],\n",
              "       [0.04917827],\n",
              "       [0.04548681],\n",
              "       [0.11411062],\n",
              "       [0.03952631],\n",
              "       [1.        ],\n",
              "       [0.02625158],\n",
              "       [0.08402586],\n",
              "       [0.04148057],\n",
              "       [0.9994147 ],\n",
              "       [0.9999995 ],\n",
              "       [0.0477629 ],\n",
              "       [0.4358174 ],\n",
              "       [0.0290001 ],\n",
              "       [0.03091788],\n",
              "       [0.98299015],\n",
              "       [0.35829663],\n",
              "       [0.02234772],\n",
              "       [0.03779104],\n",
              "       [0.23692548],\n",
              "       [0.0238567 ],\n",
              "       [0.9998637 ],\n",
              "       [0.99987113],\n",
              "       [0.03408715],\n",
              "       [0.99841774],\n",
              "       [0.9999991 ],\n",
              "       [0.99999535],\n",
              "       [0.9998507 ],\n",
              "       [0.03126779],\n",
              "       [0.02651599],\n",
              "       [1.        ],\n",
              "       [0.01746026],\n",
              "       [0.01564705],\n",
              "       [0.998893  ],\n",
              "       [0.11987123],\n",
              "       [0.99724305],\n",
              "       [0.02076107],\n",
              "       [0.01218948],\n",
              "       [0.06429073],\n",
              "       [0.02286303],\n",
              "       [0.02596724],\n",
              "       [0.9976349 ],\n",
              "       [0.02996477],\n",
              "       [0.9996309 ],\n",
              "       [0.05112237],\n",
              "       [0.9855324 ],\n",
              "       [0.14227584],\n",
              "       [0.99999607],\n",
              "       [0.5450976 ],\n",
              "       [0.03717029],\n",
              "       [0.04031041],\n",
              "       [0.00466225],\n",
              "       [0.9999989 ],\n",
              "       [0.02688662],\n",
              "       [0.9999821 ],\n",
              "       [0.04574563],\n",
              "       [0.264476  ]], dtype=float32)"
            ]
          },
          "metadata": {
            "tags": []
          },
          "execution_count": 60
        }
      ]
    },
    {
      "cell_type": "code",
      "metadata": {
        "id": "mQz_emYPaAHh",
        "colab_type": "code",
        "colab": {
          "base_uri": "https://localhost:8080/",
          "height": 52
        },
        "outputId": "b6d37089-15ac-468d-e5f1-0d46667faac4"
      },
      "source": [
        "model.evaluate(X_test, y_test)"
      ],
      "execution_count": 66,
      "outputs": [
        {
          "output_type": "stream",
          "text": [
            "7/7 [==============================] - 0s 2ms/step - loss: 0.1412 - accuracy: 0.9492\n"
          ],
          "name": "stdout"
        },
        {
          "output_type": "execute_result",
          "data": {
            "text/plain": [
              "[0.14119595289230347, 0.9492385983467102]"
            ]
          },
          "metadata": {
            "tags": []
          },
          "execution_count": 66
        }
      ]
    },
    {
      "cell_type": "code",
      "metadata": {
        "id": "PnjolKJYaRPQ",
        "colab_type": "code",
        "colab": {
          "base_uri": "https://localhost:8080/",
          "height": 90
        },
        "outputId": "3cddb43c-335d-4b9d-e74b-9f32d4b77de7"
      },
      "source": [
        "y_pred = model.predict_classes(X_test)"
      ],
      "execution_count": 67,
      "outputs": [
        {
          "output_type": "stream",
          "text": [
            "WARNING:tensorflow:From <ipython-input-67-fdaaf2360398>:1: Sequential.predict_classes (from tensorflow.python.keras.engine.sequential) is deprecated and will be removed after 2021-01-01.\n",
            "Instructions for updating:\n",
            "Please use instead:* `np.argmax(model.predict(x), axis=-1)`,   if your model does multi-class classification   (e.g. if it uses a `softmax` last-layer activation).* `(model.predict(x) > 0.5).astype(\"int32\")`,   if your model does binary classification   (e.g. if it uses a `sigmoid` last-layer activation).\n"
          ],
          "name": "stdout"
        }
      ]
    },
    {
      "cell_type": "code",
      "metadata": {
        "id": "xCjwSihfacZA",
        "colab_type": "code",
        "colab": {
          "base_uri": "https://localhost:8080/",
          "height": 52
        },
        "outputId": "5b473beb-d481-42dc-f049-5aebae100a44"
      },
      "source": [
        "from sklearn.metrics import confusion_matrix, accuracy_score\n",
        "confusion_matrix(y_test, y_pred)"
      ],
      "execution_count": 68,
      "outputs": [
        {
          "output_type": "execute_result",
          "data": {
            "text/plain": [
              "array([[106,   0],\n",
              "       [ 10,  81]])"
            ]
          },
          "metadata": {
            "tags": []
          },
          "execution_count": 68
        }
      ]
    },
    {
      "cell_type": "code",
      "metadata": {
        "id": "xFzlnAF7amcf",
        "colab_type": "code",
        "colab": {
          "base_uri": "https://localhost:8080/",
          "height": 442
        },
        "outputId": "8fa82015-9184-4587-f696-cb8301b03e5d"
      },
      "source": [
        ""
      ],
      "execution_count": 70,
      "outputs": [
        {
          "output_type": "display_data",
          "data": {
            "image/png": "[encoded data removed]",
            "text/plain": [
              "<Figure size 504x504 with 1 Axes>"
            ]
          },
          "metadata": {
            "tags": [],
            "needs_background": "light"
          }
        }
      ]
    },
    {
      "cell_type": "code",
      "metadata": {
        "id": "yV9_AjXpa-SP",
        "colab_type": "code",
        "colab": {
          "base_uri": "https://localhost:8080/",
          "height": 467
        },
        "outputId": "b1ade101-ae53-4e0c-edce-0491f5b57d51"
      },
      "source": [
        "#Generating a Confusion matrix of proportions for logistic model\n",
        "mat = confusion_matrix(y_test,y_pred)\n",
        "df = pd.DataFrame(mat)\n",
        "fig, ax = plt.subplots(figsize = (7,7))\n",
        "sns.heatmap(pd.DataFrame(df.T), annot=True, annot_kws={\"size\": 15}, cmap=\"Purples\", vmin=0, vmax=1, fmt='.3f', linewidths=1, linecolor=\"white\", cbar=False,\n",
        "           xticklabels=[\"no fraud\",\"fraud\"], yticklabels=[\"no fraud\",\"fraud\"])\n",
        "plt.ylabel(\"Predicted\", fontsize=15)\n",
        "plt.xlabel(\"Actual\", fontsize=15)\n",
        "ax.set_xticklabels([\"no fraud\",\"fraud\"], fontsize=13)\n",
        "ax.set_yticklabels([\"no fraud\",\"fraud\"], fontsize=13)\n",
        "plt.title(\"Confusion Matrix for Crediat_card Classifier (Threshold = 0.5) - Proportions\", fontsize=15)\n",
        "plt.savefig('CFresult.png')\n",
        "plt.show()"
      ],
      "execution_count": 73,
      "outputs": [
        {
          "output_type": "display_data",
          "data": {
            "image/png": "[encoded data removed]",
            "text/plain": [
              "<Figure size 504x504 with 1 Axes>"
            ]
          },
          "metadata": {
            "tags": [],
            "needs_background": "light"
          }
        }
      ]
    },
    {
      "cell_type": "code",
      "metadata": {
        "id": "NSwoB2kLcaLW",
        "colab_type": "code",
        "colab": {}
      },
      "source": [
        ""
      ],
      "execution_count": null,
      "outputs": []
    }
  ]
}